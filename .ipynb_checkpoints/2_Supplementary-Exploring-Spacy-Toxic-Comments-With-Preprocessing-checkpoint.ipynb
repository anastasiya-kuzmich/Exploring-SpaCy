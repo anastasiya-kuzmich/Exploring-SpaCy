{
 "cells": [
  {
   "cell_type": "markdown",
   "id": "0b9ebeba",
   "metadata": {
    "toc": true
   },
   "source": [
    "<h1>Table of Contents<span class=\"tocSkip\"></span></h1>\n",
    "<div class=\"toc\"><ul class=\"toc-item\"><li><span><a href=\"#Importing-packages-&amp;-dataset\" data-toc-modified-id=\"Importing-packages-&amp;-dataset-1\"><span class=\"toc-item-num\">1&nbsp;&nbsp;</span>Importing packages &amp; dataset</a></span></li><li><span><a href=\"#Feature-engineering-the-labels\" data-toc-modified-id=\"Feature-engineering-the-labels-2\"><span class=\"toc-item-num\">2&nbsp;&nbsp;</span>Feature engineering the labels</a></span></li><li><span><a href=\"#Cleaning-the-comments-column\" data-toc-modified-id=\"Cleaning-the-comments-column-3\"><span class=\"toc-item-num\">3&nbsp;&nbsp;</span>Cleaning the comments column</a></span><ul class=\"toc-item\"><li><span><a href=\"#Applying-the-cleaning-functions-used-in-the-main-notebook\" data-toc-modified-id=\"Applying-the-cleaning-functions-used-in-the-main-notebook-3.1\"><span class=\"toc-item-num\">3.1&nbsp;&nbsp;</span>Applying the cleaning functions used in the main notebook</a></span></li><li><span><a href=\"#Removing-everything-that-isn't-a-letter-or-a-whitespace\" data-toc-modified-id=\"Removing-everything-that-isn't-a-letter-or-a-whitespace-3.2\"><span class=\"toc-item-num\">3.2&nbsp;&nbsp;</span>Removing everything that isn't a letter or a whitespace</a></span></li><li><span><a href=\"#Removing-stop-words-&amp;-lemmatising\" data-toc-modified-id=\"Removing-stop-words-&amp;-lemmatising-3.3\"><span class=\"toc-item-num\">3.3&nbsp;&nbsp;</span>Removing stop-words &amp; lemmatising</a></span></li></ul></li><li><span><a href=\"#Converting-the-data-into-a-spaCy-compatible-format-&amp;-train-test-split\" data-toc-modified-id=\"Converting-the-data-into-a-spaCy-compatible-format-&amp;-train-test-split-4\"><span class=\"toc-item-num\">4&nbsp;&nbsp;</span>Converting the data into a spaCy-compatible format &amp; train-test split</a></span></li><li><span><a href=\"#Training-a-TextCategoriser-model\" data-toc-modified-id=\"Training-a-TextCategoriser-model-5\"><span class=\"toc-item-num\">5&nbsp;&nbsp;</span>Training a <a href=\"https://spacy.io/api/textcategorizer\" rel=\"nofollow\" target=\"_blank\">TextCategoriser</a> model</a></span></li><li><span><a href=\"#Applying-the-model-to-unseen-data\" data-toc-modified-id=\"Applying-the-model-to-unseen-data-6\"><span class=\"toc-item-num\">6&nbsp;&nbsp;</span>Applying the model to unseen data</a></span></li></ul></div>"
   ]
  },
  {
   "cell_type": "markdown",
   "id": "8bfe19cc",
   "metadata": {},
   "source": [
    "# Supplementary workbook: Classifying Toxicity Levels using additionally pre-processed data"
   ]
  },
  {
   "cell_type": "markdown",
   "id": "02bef354",
   "metadata": {},
   "source": [
    "## Importing packages & dataset"
   ]
  },
  {
   "cell_type": "code",
   "execution_count": 1,
   "id": "dffff7c1",
   "metadata": {
    "ExecuteTime": {
     "end_time": "2022-12-23T13:34:15.035868Z",
     "start_time": "2022-12-23T13:34:11.733847Z"
    }
   },
   "outputs": [],
   "source": [
    "import pandas as pd\n",
    "import numpy as np\n",
    "import matplotlib.pyplot as plt\n",
    "import seaborn as sns\n",
    "\n",
    "np.set_printoptions(precision=4)\n",
    "sns.set(font_scale=1.5)\n",
    "plt.style.use('fivethirtyeight')\n",
    "\n",
    "%matplotlib inline\n",
    "%config InlineBackend.figure_format = 'retina'"
   ]
  },
  {
   "cell_type": "code",
   "execution_count": 2,
   "id": "a82cb910",
   "metadata": {
    "ExecuteTime": {
     "end_time": "2022-12-23T13:34:16.572723Z",
     "start_time": "2022-12-23T13:34:15.038790Z"
    }
   },
   "outputs": [
    {
     "name": "stdout",
     "output_type": "stream",
     "text": [
      "The dataset contains 159571 entries with 8 features.\n"
     ]
    }
   ],
   "source": [
    "df = pd.read_csv(\"/Users/anastasiakuzmich/Desktop/jigsaw-toxic-comment-classification-challenge/train.csv\")\n",
    "\n",
    "print(\"The dataset contains %s entries with %s features.\" \n",
    "      % (df.shape[0], df.shape[1]))"
   ]
  },
  {
   "cell_type": "markdown",
   "id": "81d366e9",
   "metadata": {},
   "source": [
    "## Feature engineering the labels"
   ]
  },
  {
   "cell_type": "code",
   "execution_count": 3,
   "id": "b1262ee9",
   "metadata": {
    "ExecuteTime": {
     "end_time": "2022-12-23T13:34:16.726130Z",
     "start_time": "2022-12-23T13:34:16.580162Z"
    }
   },
   "outputs": [
    {
     "data": {
      "text/plain": [
       "0    0.898321\n",
       "1    0.039857\n",
       "3    0.026377\n",
       "2    0.021808\n",
       "4    0.011030\n",
       "5    0.002413\n",
       "6    0.000194\n",
       "Name: total_score, dtype: float64"
      ]
     },
     "execution_count": 3,
     "metadata": {},
     "output_type": "execute_result"
    }
   ],
   "source": [
    "df['total_score'] = (df['toxic'] \n",
    "                     + df[\"severe_toxic\"] \n",
    "                     + df[\"obscene\"] \n",
    "                     + df[\"threat\"]\n",
    "                     + df[\"insult\"]\n",
    "                     + df[\"identity_hate\"])\n",
    "\n",
    "df['total_score'].value_counts(normalize=True)"
   ]
  },
  {
   "cell_type": "code",
   "execution_count": 4,
   "id": "1e96b6a6",
   "metadata": {
    "ExecuteTime": {
     "end_time": "2022-12-23T13:34:16.867007Z",
     "start_time": "2022-12-23T13:34:16.732662Z"
    },
    "scrolled": true
   },
   "outputs": [
    {
     "data": {
      "text/plain": [
       "1    143346\n",
       "0     16225\n",
       "Name: non_toxic, dtype: int64"
      ]
     },
     "execution_count": 4,
     "metadata": {},
     "output_type": "execute_result"
    }
   ],
   "source": [
    "def non_toxic_mapper(x):\n",
    "    if x == 0: \n",
    "        return 1\n",
    "    else:\n",
    "        return 0\n",
    "\n",
    "df[\"non_toxic\"] = df[\"total_score\"].map(non_toxic_mapper)\n",
    "df[\"non_toxic\"].value_counts()"
   ]
  },
  {
   "cell_type": "code",
   "execution_count": 5,
   "id": "85407695",
   "metadata": {
    "ExecuteTime": {
     "end_time": "2022-12-23T13:34:16.919447Z",
     "start_time": "2022-12-23T13:34:16.873005Z"
    }
   },
   "outputs": [],
   "source": [
    "df = df.drop(\"total_score\", axis=1)"
   ]
  },
  {
   "cell_type": "markdown",
   "id": "90ed98dd",
   "metadata": {},
   "source": [
    "## Cleaning the comments column"
   ]
  },
  {
   "cell_type": "markdown",
   "id": "70ce491c",
   "metadata": {},
   "source": [
    "### Applying the cleaning functions used in the main notebook"
   ]
  },
  {
   "cell_type": "code",
   "execution_count": 6,
   "id": "3bf75a9d",
   "metadata": {
    "ExecuteTime": {
     "end_time": "2022-12-23T13:34:16.978544Z",
     "start_time": "2022-12-23T13:34:16.953976Z"
    }
   },
   "outputs": [],
   "source": [
    "def non_toxic_mapper(x):\n",
    "    \n",
    "    \"\"\"Maps the non-toxic column based on the total score column.\"\"\"\n",
    "    \n",
    "    if x == 0: \n",
    "        return 1\n",
    "    else:\n",
    "        return 0\n",
    "\n",
    "def add_non_toxic_column(df):\n",
    "    \n",
    "    \"\"\"Adds a non-toxic column.\"\"\"\n",
    "    \n",
    "    df['total_score'] = (df['toxic'] + df[\"severe_toxic\"] \n",
    "                         + df[\"obscene\"] + df[\"threat\"]\n",
    "                         + df[\"insult\"] + df[\"identity_hate\"])\n",
    "\n",
    "    df[\"non_toxic\"] = df[\"total_score\"].map(non_toxic_mapper)\n",
    "    df = df.drop(\"total_score\", axis=1)\n",
    "    \n",
    "    return df\n",
    "\n",
    "def clean_comments_column(df):\n",
    "    \n",
    "    \"\"\"Cleans the comments column.\"\"\"\n",
    "    \n",
    "    import re\n",
    "    \n",
    "    IpAddressRegex = \"(\\d{1,3}\\.\\d{1,3}\\.\\d{1,3}\\.\\d{1,3})\"\n",
    "    DateTimeRegex = \"(\\d{2}\\:\\d{2}\\, [A-Z][a-z]{2,8}\\ \\d{1,2}\\, \\d{4}\\ \\([A-Z]{3}\\))|(\\d{2}\\:\\d{2}\\, \\d{2}\\ [A-Z][a-z]{2}\\ \\d{4}\\ \\([A-Z]{3}\\))|(\\d{2}\\:\\d{2}\\, \\d{1,2}\\ [A-Z][a-z]{2,8} \\d{4})|(\\d{1,2}\\ [A-Z][a-z]{2,8}\\ \\d{4}\\ \\([A-Z]{3}\\))|(\\d{1,2}\\ [A-Z][a-z]{1,7}\\ \\d{4})|(\\d{2}\\:\\d{2}\\, \\d{1,2})|([A-Z][a-z]{2,8}\\ \\d{4}\\ \\([A-Z]{3}\\))\"\n",
    "    \n",
    "    features_to_remove = [IpAddressRegex,\n",
    "                          DateTimeRegex,\n",
    "                          '\\\\n', r'\\\\']\n",
    "    \n",
    "    for feature in features_to_remove:\n",
    "        df[\"comment_text\"] = df[\"comment_text\"].replace(feature,' ', regex=True)\n",
    " \n",
    "    df['comment_text'] = df['comment_text'].replace(u'\\xa0', u' ')\n",
    "    \n",
    "    return df"
   ]
  },
  {
   "cell_type": "code",
   "execution_count": 7,
   "id": "522b274d",
   "metadata": {
    "ExecuteTime": {
     "end_time": "2022-12-23T13:34:44.592589Z",
     "start_time": "2022-12-23T13:34:16.991919Z"
    }
   },
   "outputs": [],
   "source": [
    "df = clean_comments_column(df)"
   ]
  },
  {
   "cell_type": "markdown",
   "id": "eecee07a",
   "metadata": {},
   "source": [
    "### Removing everything that isn't a letter or a whitespace"
   ]
  },
  {
   "cell_type": "code",
   "execution_count": 8,
   "id": "746083b1",
   "metadata": {
    "ExecuteTime": {
     "end_time": "2022-12-23T13:34:52.022027Z",
     "start_time": "2022-12-23T13:34:44.595712Z"
    }
   },
   "outputs": [
    {
     "data": {
      "application/vnd.jupyter.widget-view+json": {
       "model_id": "80854898fd0f4b759c6b990c66bec14c",
       "version_major": 2,
       "version_minor": 0
      },
      "text/plain": [
       "  0%|          | 0/159571 [00:00<?, ?it/s]"
      ]
     },
     "metadata": {},
     "output_type": "display_data"
    }
   ],
   "source": [
    "from tqdm.auto import tqdm\n",
    "\n",
    "whitelist = set('abcdefghijklmnopqrstuvwxyz ABCDEFGHIJKLMNOPQRSTUVWXYZ')\n",
    "new_comments = []\n",
    "\n",
    "for comment in tqdm(df[\"comment_text\"]):\n",
    "    new_comment = ''.join(filter(whitelist.__contains__, comment)).lower()\n",
    "    new_comments.append(new_comment)\n",
    "    \n",
    "df['comment_text'] = new_comments\n",
    "del new_comments"
   ]
  },
  {
   "cell_type": "markdown",
   "id": "6fe32da0",
   "metadata": {},
   "source": [
    "###  Removing stop-words & lemmatising"
   ]
  },
  {
   "cell_type": "code",
   "execution_count": 9,
   "id": "3427beca",
   "metadata": {
    "ExecuteTime": {
     "end_time": "2022-12-23T13:35:05.796090Z",
     "start_time": "2022-12-23T13:34:52.026539Z"
    },
    "scrolled": true
   },
   "outputs": [
    {
     "name": "stdout",
     "output_type": "stream",
     "text": [
      "Number of stop words: 326\n",
      "First ten stop words: ['hers', 'through', 'becomes', 'get', 'move', 'you', 'us', 'be', 'off', 'top']\n",
      "['tok2vec', 'tagger', 'attribute_ruler', 'lemmatizer']\n"
     ]
    }
   ],
   "source": [
    "import spacy\n",
    "from tqdm.auto import tqdm\n",
    "import time\n",
    "nlp = spacy.load(\"en_core_web_md\", exclude=[\"parser\", \"ner\"])\n",
    "spacy_stopwords = spacy.lang.en.stop_words.STOP_WORDS\n",
    "print('Number of stop words: %d' % len(spacy_stopwords))\n",
    "print('First ten stop words: %s' % list(spacy_stopwords)[:10])\n",
    "print(nlp.pipe_names)"
   ]
  },
  {
   "cell_type": "code",
   "execution_count": 10,
   "id": "6932d98a",
   "metadata": {
    "ExecuteTime": {
     "end_time": "2022-12-23T13:56:32.522948Z",
     "start_time": "2022-12-23T13:35:05.810507Z"
    }
   },
   "outputs": [
    {
     "data": {
      "application/vnd.jupyter.widget-view+json": {
       "model_id": "9263def37a144426b55c4387204704d1",
       "version_major": 2,
       "version_minor": 0
      },
      "text/plain": [
       "  0%|          | 0/159571 [00:00<?, ?it/s]"
      ]
     },
     "metadata": {},
     "output_type": "display_data"
    }
   ],
   "source": [
    "comments = df[\"comment_text\"]\n",
    "preprocessed_comments = []\n",
    "\n",
    "for doc in tqdm(list(nlp.pipe(df[\"comment_text\"]))):\n",
    "    preprocessed_comment = [token.lemma_ for token in doc if not token.is_stop]\n",
    "    preprocessed_comments.append(' '.join(preprocessed_comment))"
   ]
  },
  {
   "cell_type": "code",
   "execution_count": 11,
   "id": "8da82d58",
   "metadata": {
    "ExecuteTime": {
     "end_time": "2022-12-23T13:56:32.542132Z",
     "start_time": "2022-12-23T13:56:32.531307Z"
    }
   },
   "outputs": [
    {
     "name": "stdout",
     "output_type": "stream",
     "text": [
      "explanation why the edits made under my username hardcore metallica fan were reverted they werent vandalisms just closure on some gas after i voted at new york dolls fac and please dont remove the template from the talk page since im retired now \n",
      " \n",
      "Processed: explanation edit username hardcore metallica fan revert nt vandalism closure gas vote new york doll fac nt remove template talk page m retire\n",
      " \n",
      "daww he matches this background colour im seemingly stuck with thanks  talk  \n",
      " \n",
      "Processed: daww match background colour m seemingly stick thank   talk  \n",
      " \n"
     ]
    }
   ],
   "source": [
    "for i in range(2):\n",
    "    print(df[\"comment_text\"][i])\n",
    "    print(\" \")\n",
    "    print(\"Processed:\", preprocessed_comments[i])\n",
    "    print(\" \")"
   ]
  },
  {
   "cell_type": "code",
   "execution_count": 12,
   "id": "e0707437",
   "metadata": {
    "ExecuteTime": {
     "end_time": "2022-12-23T13:56:32.801825Z",
     "start_time": "2022-12-23T13:56:32.546763Z"
    }
   },
   "outputs": [],
   "source": [
    "df[\"comment_text\"] = preprocessed_comments"
   ]
  },
  {
   "cell_type": "code",
   "execution_count": 13,
   "id": "ed5b3aeb",
   "metadata": {
    "ExecuteTime": {
     "end_time": "2022-12-23T13:56:32.816901Z",
     "start_time": "2022-12-23T13:56:32.807771Z"
    }
   },
   "outputs": [],
   "source": [
    "del comments, preprocessed_comments"
   ]
  },
  {
   "cell_type": "markdown",
   "id": "8572794d",
   "metadata": {},
   "source": [
    "## Converting the data into a spaCy-compatible format & train-test split"
   ]
  },
  {
   "cell_type": "code",
   "execution_count": 14,
   "id": "58d189af",
   "metadata": {
    "ExecuteTime": {
     "end_time": "2022-12-23T13:56:37.468727Z",
     "start_time": "2022-12-23T13:56:32.821015Z"
    }
   },
   "outputs": [],
   "source": [
    "# Extracting the labels\n",
    "y = df[['toxic', 'severe_toxic', 'obscene', 'threat', 'insult', 'identity_hate', 'non_toxic']]\n",
    "\n",
    "# Labels variable to be used in the pipeline\n",
    "labels = list(y.columns)\n",
    "\n",
    "# Converting the labels to a spacy-compatible dictionary \n",
    "y = y.to_dict(\"index\")"
   ]
  },
  {
   "cell_type": "code",
   "execution_count": 15,
   "id": "c4fd2547",
   "metadata": {
    "ExecuteTime": {
     "end_time": "2022-12-23T13:56:37.942878Z",
     "start_time": "2022-12-23T13:56:37.472224Z"
    }
   },
   "outputs": [
    {
     "name": "stdout",
     "output_type": "stream",
     "text": [
      "('explanation edit username hardcore metallica fan revert nt vandalism closure gas vote new york doll fac nt remove template talk page m retire', {'cats': {'toxic': 0, 'severe_toxic': 0, 'obscene': 0, 'threat': 0, 'insult': 0, 'identity_hate': 0, 'non_toxic': 1}})\n"
     ]
    }
   ],
   "source": [
    "dataset = list(zip(df['comment_text'],[{'cats': cats} for cats in y.values()]))\n",
    "print(dataset[0])"
   ]
  },
  {
   "cell_type": "code",
   "execution_count": 16,
   "id": "1ddf0384",
   "metadata": {
    "ExecuteTime": {
     "end_time": "2022-12-23T13:56:38.358524Z",
     "start_time": "2022-12-23T13:56:37.948857Z"
    }
   },
   "outputs": [],
   "source": [
    "from sklearn.model_selection import train_test_split\n",
    "\n",
    "train_data, test_data = train_test_split(dataset, \n",
    "                                         train_size=0.8, \n",
    "                                         random_state=13)"
   ]
  },
  {
   "cell_type": "code",
   "execution_count": 17,
   "id": "b276741f",
   "metadata": {
    "ExecuteTime": {
     "end_time": "2022-12-23T13:56:38.395003Z",
     "start_time": "2022-12-23T13:56:38.362723Z"
    }
   },
   "outputs": [
    {
     "name": "stdout",
     "output_type": "stream",
     "text": [
      "SAMPLES IN TRAINING SET:  127656\n",
      "SAMPLES IN TESTING SET:  31915\n",
      " \n",
      "TRAINING EXAMPLE: ('okay one gon na address guess edit page care accuracy', {'cats': {'toxic': 0, 'severe_toxic': 0, 'obscene': 0, 'threat': 0, 'insult': 0, 'identity_hate': 0, 'non_toxic': 1}})\n"
     ]
    }
   ],
   "source": [
    "print(\"SAMPLES IN TRAINING SET: \", len(train_data))\n",
    "print(\"SAMPLES IN TESTING SET: \", len(test_data))\n",
    "print(\" \")\n",
    "print(\"TRAINING EXAMPLE:\", train_data[0])"
   ]
  },
  {
   "cell_type": "markdown",
   "id": "3da5c367",
   "metadata": {},
   "source": [
    "## Training a [TextCategoriser](https://spacy.io/api/textcategorizer) model"
   ]
  },
  {
   "cell_type": "code",
   "execution_count": 18,
   "id": "49087c39",
   "metadata": {
    "ExecuteTime": {
     "end_time": "2022-12-23T13:56:38.811958Z",
     "start_time": "2022-12-23T13:56:38.403239Z"
    }
   },
   "outputs": [
    {
     "data": {
      "text/plain": [
       "[]"
      ]
     },
     "execution_count": 18,
     "metadata": {},
     "output_type": "execute_result"
    }
   ],
   "source": [
    "nlp_train = spacy.blank(\"en\")\n",
    "nlp_train.pipe_names"
   ]
  },
  {
   "cell_type": "code",
   "execution_count": 19,
   "id": "a2d2f0fd",
   "metadata": {
    "ExecuteTime": {
     "end_time": "2022-12-23T13:56:38.850821Z",
     "start_time": "2022-12-23T13:56:38.815080Z"
    }
   },
   "outputs": [
    {
     "name": "stdout",
     "output_type": "stream",
     "text": [
      "['textcat_multilabel']\n"
     ]
    }
   ],
   "source": [
    "from spacy.pipeline.textcat_multilabel import DEFAULT_MULTI_TEXTCAT_MODEL\n",
    "\n",
    "config = {\"threshold\": 0.5, \"model\": DEFAULT_MULTI_TEXTCAT_MODEL}\n",
    "\n",
    "textcat = nlp_train.add_pipe(\"textcat_multilabel\", config=config)\n",
    "print(nlp_train.pipe_names)"
   ]
  },
  {
   "cell_type": "code",
   "execution_count": 20,
   "id": "26cdb136",
   "metadata": {
    "ExecuteTime": {
     "end_time": "2022-12-23T13:56:38.884625Z",
     "start_time": "2022-12-23T13:56:38.874076Z"
    }
   },
   "outputs": [
    {
     "data": {
      "text/plain": [
       "('toxic',\n",
       " 'severe_toxic',\n",
       " 'obscene',\n",
       " 'threat',\n",
       " 'insult',\n",
       " 'identity_hate',\n",
       " 'non_toxic')"
      ]
     },
     "execution_count": 20,
     "metadata": {},
     "output_type": "execute_result"
    }
   ],
   "source": [
    "for label in labels:\n",
    "    textcat.add_label(label)\n",
    "    \n",
    "textcat.labels"
   ]
  },
  {
   "cell_type": "code",
   "execution_count": 21,
   "id": "f7bf3556",
   "metadata": {
    "ExecuteTime": {
     "end_time": "2022-12-23T13:56:38.990771Z",
     "start_time": "2022-12-23T13:56:38.918871Z"
    }
   },
   "outputs": [],
   "source": [
    "optimizer = nlp_train.begin_training()\n",
    "iterations = 10"
   ]
  },
  {
   "cell_type": "code",
   "execution_count": 22,
   "id": "afea59ca",
   "metadata": {
    "ExecuteTime": {
     "end_time": "2022-12-23T13:56:39.010803Z",
     "start_time": "2022-12-23T13:56:39.004094Z"
    }
   },
   "outputs": [],
   "source": [
    "from tqdm.auto import tqdm\n",
    "import time\n",
    "\n",
    "from spacy.util import minibatch, compounding\n",
    "from spacy.training import Example"
   ]
  },
  {
   "cell_type": "code",
   "execution_count": 23,
   "id": "18f625e1",
   "metadata": {
    "ExecuteTime": {
     "end_time": "2022-12-23T14:21:23.330962Z",
     "start_time": "2022-12-23T13:56:39.016706Z"
    }
   },
   "outputs": [
    {
     "data": {
      "application/vnd.jupyter.widget-view+json": {
       "model_id": "ada9446187564ece9cb18e55dd39f198",
       "version_major": 2,
       "version_minor": 0
      },
      "text/plain": [
       "  0%|          | 0/5227 [00:00<?, ?it/s]"
      ]
     },
     "metadata": {},
     "output_type": "display_data"
    },
    {
     "data": {
      "application/vnd.jupyter.widget-view+json": {
       "model_id": "c0b1b8a941e7431c89fb73b72891d4d4",
       "version_major": 2,
       "version_minor": 0
      },
      "text/plain": [
       "  0%|          | 0/5227 [00:00<?, ?it/s]"
      ]
     },
     "metadata": {},
     "output_type": "display_data"
    },
    {
     "data": {
      "application/vnd.jupyter.widget-view+json": {
       "model_id": "2fa3e4af84924feca6f098a8d873051e",
       "version_major": 2,
       "version_minor": 0
      },
      "text/plain": [
       "  0%|          | 0/5227 [00:00<?, ?it/s]"
      ]
     },
     "metadata": {},
     "output_type": "display_data"
    },
    {
     "data": {
      "application/vnd.jupyter.widget-view+json": {
       "model_id": "ebda52ead49542359430d5ec559e62a7",
       "version_major": 2,
       "version_minor": 0
      },
      "text/plain": [
       "  0%|          | 0/5227 [00:00<?, ?it/s]"
      ]
     },
     "metadata": {},
     "output_type": "display_data"
    },
    {
     "data": {
      "application/vnd.jupyter.widget-view+json": {
       "model_id": "c5823a20c06649f6975760a5ce36dccd",
       "version_major": 2,
       "version_minor": 0
      },
      "text/plain": [
       "  0%|          | 0/5227 [00:00<?, ?it/s]"
      ]
     },
     "metadata": {},
     "output_type": "display_data"
    },
    {
     "data": {
      "application/vnd.jupyter.widget-view+json": {
       "model_id": "c7699560d59f4dc59c35c543b23bee5a",
       "version_major": 2,
       "version_minor": 0
      },
      "text/plain": [
       "  0%|          | 0/5227 [00:00<?, ?it/s]"
      ]
     },
     "metadata": {},
     "output_type": "display_data"
    },
    {
     "data": {
      "application/vnd.jupyter.widget-view+json": {
       "model_id": "5260dc2e006f4e30add66116ccb19584",
       "version_major": 2,
       "version_minor": 0
      },
      "text/plain": [
       "  0%|          | 0/5227 [00:00<?, ?it/s]"
      ]
     },
     "metadata": {},
     "output_type": "display_data"
    },
    {
     "data": {
      "application/vnd.jupyter.widget-view+json": {
       "model_id": "af64fb9f446a4d718bcbbdef63789e69",
       "version_major": 2,
       "version_minor": 0
      },
      "text/plain": [
       "  0%|          | 0/5227 [00:00<?, ?it/s]"
      ]
     },
     "metadata": {},
     "output_type": "display_data"
    },
    {
     "data": {
      "application/vnd.jupyter.widget-view+json": {
       "model_id": "a6bcea8942254f3d8f82a020e7bbabba",
       "version_major": 2,
       "version_minor": 0
      },
      "text/plain": [
       "  0%|          | 0/5227 [00:00<?, ?it/s]"
      ]
     },
     "metadata": {},
     "output_type": "display_data"
    },
    {
     "data": {
      "application/vnd.jupyter.widget-view+json": {
       "model_id": "eb188b01c0334bea920bc4345798e219",
       "version_major": 2,
       "version_minor": 0
      },
      "text/plain": [
       "  0%|          | 0/5227 [00:00<?, ?it/s]"
      ]
     },
     "metadata": {},
     "output_type": "display_data"
    }
   ],
   "source": [
    "with nlp.select_pipes(enable=\"textcat_multilabel\"):\n",
    "    for j in range(iterations):\n",
    "        \n",
    "        losses = {}\n",
    "        batches = minibatch(train_data, size = compounding(4.,32.,1.001))\n",
    "        pbar = tqdm(batches, total=5227)\n",
    "        \n",
    "        for batch in pbar:\n",
    "            pbar.set_description(f\"Iteration {j+1}\")\n",
    "            text, annotations = zip(*batch)\n",
    "            example = []\n",
    "            \n",
    "            for i in range(len(text)):\n",
    "                doc = nlp.make_doc(text[i])\n",
    "                example.append(Example.from_dict(doc, annotations[i]))\n",
    "            \n",
    "            nlp.update(example, sgd=optimizer, drop=0.2, losses = losses)\n",
    "\n",
    "#         print(\"\\n\\n Completed Iterations : {} \".format(j+1))"
   ]
  },
  {
   "cell_type": "markdown",
   "id": "ab9a820a",
   "metadata": {},
   "source": [
    "## Applying the model to unseen data"
   ]
  },
  {
   "cell_type": "code",
   "execution_count": 24,
   "id": "ad5327a9",
   "metadata": {
    "ExecuteTime": {
     "end_time": "2022-12-23T14:21:23.370995Z",
     "start_time": "2022-12-23T14:21:23.362953Z"
    }
   },
   "outputs": [],
   "source": [
    "from spacy.scorer import Scorer"
   ]
  },
  {
   "cell_type": "code",
   "execution_count": 25,
   "id": "ba34478b",
   "metadata": {
    "ExecuteTime": {
     "end_time": "2022-12-23T14:24:41.797370Z",
     "start_time": "2022-12-23T14:21:23.384928Z"
    },
    "scrolled": true
   },
   "outputs": [
    {
     "data": {
      "application/vnd.jupyter.widget-view+json": {
       "model_id": "e6cedd3a6db34d428b53946f1fd5228d",
       "version_major": 2,
       "version_minor": 0
      },
      "text/plain": [
       "  0%|          | 0/31915 [00:00<?, ?it/s]"
      ]
     },
     "metadata": {},
     "output_type": "display_data"
    }
   ],
   "source": [
    "examples = []\n",
    "scorer = Scorer()\n",
    "\n",
    "for text, annotations in tqdm(test_data):\n",
    "    doc = nlp_train.make_doc(text)\n",
    "    example = Example.from_dict(doc, annotations)\n",
    "    example.predicted = nlp_train(str(example.predicted))\n",
    "    examples.append(example)"
   ]
  },
  {
   "cell_type": "code",
   "execution_count": 26,
   "id": "cb1c8bdd",
   "metadata": {
    "ExecuteTime": {
     "end_time": "2022-12-23T14:24:42.507829Z",
     "start_time": "2022-12-23T14:24:41.812509Z"
    }
   },
   "outputs": [
    {
     "data": {
      "text/plain": [
       "{'cats_score': 0.4933680304932667,\n",
       " 'cats_score_desc': 'macro AUC',\n",
       " 'cats_micro_p': 0.10126473944465576,\n",
       " 'cats_micro_r': 0.29965107771962407,\n",
       " 'cats_micro_f': 0.15137386458940424,\n",
       " 'cats_macro_p': 0.15654536416947587,\n",
       " 'cats_macro_r': 0.4656874956408263,\n",
       " 'cats_macro_f': 0.10811961766492087,\n",
       " 'cats_macro_auc': 0.4933680304932667,\n",
       " 'cats_f_per_type': {'toxic': {'p': 0.08680877355576151,\n",
       "   'r': 0.2821285140562249,\n",
       "   'f': 0.13276635955587054},\n",
       "  'severe_toxic': {'p': 0.00923713967192228,\n",
       "   'r': 0.19141914191419143,\n",
       "   'f': 0.0176238225463385},\n",
       "  'obscene': {'p': 0.04146072268343011,\n",
       "   'r': 0.5320197044334976,\n",
       "   'f': 0.07692650135778836},\n",
       "  'threat': {'p': 0.002482128673550437,\n",
       "   'r': 0.5555555555555556,\n",
       "   'f': 0.004942176534545813},\n",
       "  'insult': {'p': 0.05203945085988997,\n",
       "   'r': 0.6986027944111777,\n",
       "   'f': 0.09686346863468635},\n",
       "  'identity_hate': {'p': 0.010448143405889884,\n",
       "   'r': 0.7364620938628159,\n",
       "   'f': 0.020603979396020603},\n",
       "  'non_toxic': {'p': 0.8933411903358869,\n",
       "   'r': 0.2636246652523215,\n",
       "   'f': 0.40711101562919594}},\n",
       " 'cats_auc_per_type': {'toxic': 0.4677101545232103,\n",
       "  'severe_toxic': 0.4512692364390178,\n",
       "  'obscene': 0.4183798415631104,\n",
       "  'threat': 0.45992947542986823,\n",
       "  'insult': 0.5624659751477797,\n",
       "  'identity_hate': 0.5894305686873369,\n",
       "  'non_toxic': 0.5043909616625435}}"
      ]
     },
     "execution_count": 26,
     "metadata": {},
     "output_type": "execute_result"
    }
   ],
   "source": [
    "scorer.score_cats(examples, \"cats\", labels=labels)"
   ]
  },
  {
   "cell_type": "markdown",
   "id": "5bc6bf7c",
   "metadata": {},
   "source": [
    "💡 There is a drastic decrease in performace when the input does not consist of natural sentences. "
   ]
  }
 ],
 "metadata": {
  "kernelspec": {
   "display_name": "Python 3 (ipykernel)",
   "language": "python",
   "name": "python3"
  },
  "language_info": {
   "codemirror_mode": {
    "name": "ipython",
    "version": 3
   },
   "file_extension": ".py",
   "mimetype": "text/x-python",
   "name": "python",
   "nbconvert_exporter": "python",
   "pygments_lexer": "ipython3",
   "version": "3.8.2"
  },
  "toc": {
   "base_numbering": 1,
   "nav_menu": {},
   "number_sections": true,
   "sideBar": true,
   "skip_h1_title": true,
   "title_cell": "Table of Contents",
   "title_sidebar": "Contents",
   "toc_cell": true,
   "toc_position": {},
   "toc_section_display": true,
   "toc_window_display": true
  },
  "varInspector": {
   "cols": {
    "lenName": 16,
    "lenType": 16,
    "lenVar": 40
   },
   "kernels_config": {
    "python": {
     "delete_cmd_postfix": "",
     "delete_cmd_prefix": "del ",
     "library": "var_list.py",
     "varRefreshCmd": "print(var_dic_list())"
    },
    "r": {
     "delete_cmd_postfix": ") ",
     "delete_cmd_prefix": "rm(",
     "library": "var_list.r",
     "varRefreshCmd": "cat(var_dic_list()) "
    }
   },
   "oldHeight": 734.8438120000001,
   "position": {
    "height": "40px",
    "left": "1307.77px",
    "right": "20px",
    "top": "121px",
    "width": "476.006px"
   },
   "types_to_exclude": [
    "module",
    "function",
    "builtin_function_or_method",
    "instance",
    "_Feature"
   ],
   "varInspector_section_display": "none",
   "window_display": true
  }
 },
 "nbformat": 4,
 "nbformat_minor": 5
}
