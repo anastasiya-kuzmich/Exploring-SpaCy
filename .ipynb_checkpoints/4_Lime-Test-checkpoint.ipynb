{
 "cells": [
  {
   "cell_type": "markdown",
   "id": "4caa27ed",
   "metadata": {},
   "source": [
    "## Importing Packages "
   ]
  },
  {
   "cell_type": "code",
   "execution_count": 1,
   "id": "c15e707d",
   "metadata": {
    "ExecuteTime": {
     "end_time": "2023-01-23T15:34:40.309219Z",
     "start_time": "2023-01-23T15:34:39.145059Z"
    },
    "scrolled": true
   },
   "outputs": [],
   "source": [
    "import pandas as pd\n",
    "import numpy as np\n",
    "import matplotlib.pyplot as plt\n",
    "import seaborn as sns\n",
    "\n",
    "import spacy\n",
    "from spacy.training import Example\n",
    "from tqdm.auto import tqdm\n",
    "import time\n",
    "\n",
    "# Importing my previously defined functions\n",
    "from my_cleaning_functions import *"
   ]
  },
  {
   "cell_type": "code",
   "execution_count": 2,
   "id": "d89dbcbe",
   "metadata": {
    "ExecuteTime": {
     "end_time": "2023-01-23T15:34:40.321743Z",
     "start_time": "2023-01-23T15:34:40.312550Z"
    }
   },
   "outputs": [],
   "source": [
    "np.set_printoptions(precision=4)\n",
    "sns.set(font_scale=1.5)\n",
    "plt.style.use('fivethirtyeight')\n",
    "\n",
    "%matplotlib inline\n",
    "%config InlineBackend.figure_format = 'retina'"
   ]
  },
  {
   "cell_type": "markdown",
   "id": "55078247",
   "metadata": {},
   "source": [
    "## Importing Dataset"
   ]
  },
  {
   "cell_type": "code",
   "execution_count": 3,
   "id": "a376df47",
   "metadata": {
    "ExecuteTime": {
     "end_time": "2023-01-23T15:34:42.569122Z",
     "start_time": "2023-01-23T15:34:41.974350Z"
    }
   },
   "outputs": [
    {
     "name": "stdout",
     "output_type": "stream",
     "text": [
      "The dataset contains 153164 entries with 2 features.\n"
     ]
    }
   ],
   "source": [
    "test_data = pd.read_csv(\"data/test.csv\")\n",
    "test_labels = pd.read_csv(\"data/test_labels.csv\")\n",
    "\n",
    "print(\"The dataset contains %s entries with %s features.\" \n",
    "      % (test_data.shape[0], test_data.shape[1]))"
   ]
  },
  {
   "cell_type": "code",
   "execution_count": 27,
   "id": "9745fe58",
   "metadata": {
    "ExecuteTime": {
     "end_time": "2023-01-23T15:52:13.477674Z",
     "start_time": "2023-01-23T15:52:13.466429Z"
    }
   },
   "outputs": [],
   "source": [
    "class_names = ['toxic', 'severe_toxic', 'obscene', 'threat', 'insult', 'identity_hate', 'non_toxic']"
   ]
  },
  {
   "cell_type": "markdown",
   "id": "eeb4f0b6",
   "metadata": {},
   "source": [
    "## Cleaning & Restructuring"
   ]
  },
  {
   "cell_type": "code",
   "execution_count": 4,
   "id": "3941e637",
   "metadata": {
    "ExecuteTime": {
     "end_time": "2023-01-23T15:34:50.080772Z",
     "start_time": "2023-01-23T15:34:43.973151Z"
    },
    "scrolled": true
   },
   "outputs": [
    {
     "data": {
      "text/html": [
       "<div>\n",
       "<style scoped>\n",
       "    .dataframe tbody tr th:only-of-type {\n",
       "        vertical-align: middle;\n",
       "    }\n",
       "\n",
       "    .dataframe tbody tr th {\n",
       "        vertical-align: top;\n",
       "    }\n",
       "\n",
       "    .dataframe thead th {\n",
       "        text-align: right;\n",
       "    }\n",
       "</style>\n",
       "<table border=\"1\" class=\"dataframe\">\n",
       "  <thead>\n",
       "    <tr style=\"text-align: right;\">\n",
       "      <th></th>\n",
       "      <th>id</th>\n",
       "      <th>comment_text</th>\n",
       "    </tr>\n",
       "  </thead>\n",
       "  <tbody>\n",
       "    <tr>\n",
       "      <th>0</th>\n",
       "      <td>00001cee341fdb12</td>\n",
       "      <td>Yo bitch Ja Rule is more succesful then you'll...</td>\n",
       "    </tr>\n",
       "    <tr>\n",
       "      <th>1</th>\n",
       "      <td>0000247867823ef7</td>\n",
       "      <td>== From RfC ==    The title is fine as it is, ...</td>\n",
       "    </tr>\n",
       "    <tr>\n",
       "      <th>2</th>\n",
       "      <td>00013b17ad220c46</td>\n",
       "      <td>\"    == Sources ==    * Zawe Ashton on Lapland...</td>\n",
       "    </tr>\n",
       "    <tr>\n",
       "      <th>3</th>\n",
       "      <td>00017563c3f7919a</td>\n",
       "      <td>:If you have a look back at the source, the in...</td>\n",
       "    </tr>\n",
       "    <tr>\n",
       "      <th>4</th>\n",
       "      <td>00017695ad8997eb</td>\n",
       "      <td>I don't anonymously edit articles at all.</td>\n",
       "    </tr>\n",
       "  </tbody>\n",
       "</table>\n",
       "</div>"
      ],
      "text/plain": [
       "                 id                                       comment_text\n",
       "0  00001cee341fdb12  Yo bitch Ja Rule is more succesful then you'll...\n",
       "1  0000247867823ef7  == From RfC ==    The title is fine as it is, ...\n",
       "2  00013b17ad220c46  \"    == Sources ==    * Zawe Ashton on Lapland...\n",
       "3  00017563c3f7919a  :If you have a look back at the source, the in...\n",
       "4  00017695ad8997eb          I don't anonymously edit articles at all."
      ]
     },
     "execution_count": 4,
     "metadata": {},
     "output_type": "execute_result"
    }
   ],
   "source": [
    "test_data = clean_comments_column(test_data)\n",
    "test_data.head()"
   ]
  },
  {
   "cell_type": "code",
   "execution_count": 5,
   "id": "0a31759a",
   "metadata": {
    "ExecuteTime": {
     "end_time": "2023-01-23T15:34:50.319222Z",
     "start_time": "2023-01-23T15:34:50.085183Z"
    }
   },
   "outputs": [
    {
     "name": "stdout",
     "output_type": "stream",
     "text": [
      "First data entry:  ('Thank you for understanding. I think very highly of you and would not revert without discussion.', {'cats': {'toxic': 0, 'severe_toxic': 0, 'obscene': 0, 'threat': 0, 'insult': 0, 'identity_hate': 0, 'non_toxic': 1}})\n"
     ]
    }
   ],
   "source": [
    "test_data = restructure_test_dataframe(data=test_data, labels=test_labels)"
   ]
  },
  {
   "cell_type": "markdown",
   "id": "e94b90e4",
   "metadata": {},
   "source": [
    "## Modelling"
   ]
  },
  {
   "cell_type": "code",
   "execution_count": 6,
   "id": "b38f295d",
   "metadata": {
    "ExecuteTime": {
     "end_time": "2023-01-23T15:36:40.561868Z",
     "start_time": "2023-01-23T15:36:40.031537Z"
    }
   },
   "outputs": [
    {
     "data": {
      "text/plain": [
       "['textcat_multilabel']"
      ]
     },
     "execution_count": 6,
     "metadata": {},
     "output_type": "execute_result"
    }
   ],
   "source": [
    "nlp = spacy.load(\"toxic-comments-textcat\")\n",
    "nlp.pipe_names"
   ]
  },
  {
   "cell_type": "code",
   "execution_count": 7,
   "id": "e2077c79",
   "metadata": {
    "ExecuteTime": {
     "end_time": "2023-01-23T15:39:04.593480Z",
     "start_time": "2023-01-23T15:36:54.666200Z"
    },
    "scrolled": false
   },
   "outputs": [
    {
     "data": {
      "application/vnd.jupyter.widget-view+json": {
       "model_id": "259df7cd31214e3f89bbd5689c81292f",
       "version_major": 2,
       "version_minor": 0
      },
      "text/plain": [
       "  0%|          | 0/63978 [00:00<?, ?it/s]"
      ]
     },
     "metadata": {},
     "output_type": "display_data"
    }
   ],
   "source": [
    "test = []\n",
    "\n",
    "for texts, annotation in tqdm(test_data):\n",
    "    \n",
    "    doc = nlp.make_doc(texts)\n",
    "    test.append(Example.from_dict(doc, annotation))  \n",
    "    \n",
    "score = nlp.evaluate(test)"
   ]
  },
  {
   "cell_type": "code",
   "execution_count": 10,
   "id": "262e1920",
   "metadata": {
    "ExecuteTime": {
     "end_time": "2023-01-23T15:40:21.628187Z",
     "start_time": "2023-01-23T15:40:21.617705Z"
    }
   },
   "outputs": [
    {
     "name": "stdout",
     "output_type": "stream",
     "text": [
      "{'toxic': 0.9542003453132076, 'severe_toxic': 0.9784865323920249, 'obscene': 0.967421974425708, 'threat': 0.9701070328834158, 'insult': 0.9601088394175237, 'identity_hate': 0.962007379134363, 'non_toxic': 0.9549437623537513}\n"
     ]
    }
   ],
   "source": [
    "print(score[\"cats_auc_per_type\"])"
   ]
  },
  {
   "cell_type": "markdown",
   "id": "8644d4c9",
   "metadata": {},
   "source": [
    "## Explaining predictions using lime"
   ]
  },
  {
   "cell_type": "code",
   "execution_count": 11,
   "id": "b9f821f3",
   "metadata": {
    "ExecuteTime": {
     "end_time": "2023-01-23T15:40:34.357091Z",
     "start_time": "2023-01-23T15:40:34.173951Z"
    }
   },
   "outputs": [],
   "source": [
    "from lime import lime_text\n",
    "from lime.lime_text import LimeTextExplainer"
   ]
  },
  {
   "cell_type": "code",
   "execution_count": 25,
   "id": "f4600c4e",
   "metadata": {
    "ExecuteTime": {
     "end_time": "2023-01-23T15:47:41.687121Z",
     "start_time": "2023-01-23T15:47:41.673039Z"
    }
   },
   "outputs": [
    {
     "name": "stdout",
     "output_type": "stream",
     "text": [
      "{'toxic': 0.0009806256275624037, 'severe_toxic': 0.0004294771351851523, 'obscene': 0.0019398706499487162, 'threat': 0.0022096331231296062, 'insult': 0.0016055178130045533, 'identity_hate': 0.0006365900044329464, 'non_toxic': 0.9989380240440369}\n"
     ]
    }
   ],
   "source": [
    "# first comment: test_data[0][0], second comment: test_data[1][0] etc...\n",
    "\n",
    "doc = nlp(test_data[0][0])\n",
    "print(doc.cats) "
   ]
  },
  {
   "cell_type": "code",
   "execution_count": 28,
   "id": "51564c06",
   "metadata": {
    "ExecuteTime": {
     "end_time": "2023-01-23T15:52:19.463607Z",
     "start_time": "2023-01-23T15:52:19.460096Z"
    }
   },
   "outputs": [],
   "source": [
    "explainer = LimeTextExplainer(class_names=class_names)"
   ]
  },
  {
   "cell_type": "markdown",
   "id": "a34891ce",
   "metadata": {},
   "source": [
    "📌 Pick up from here by re-phrasing the following to fit the spacy pipeline"
   ]
  },
  {
   "cell_type": "code",
   "execution_count": 31,
   "id": "ec0c1f45",
   "metadata": {
    "ExecuteTime": {
     "end_time": "2023-01-23T15:53:02.774254Z",
     "start_time": "2023-01-23T15:53:02.770971Z"
    }
   },
   "outputs": [],
   "source": [
    "# idx = 1340\n",
    "# exp = explainer.explain_instance(newsgroups_test.data[idx], c.predict_proba, num_features=6, labels=[0, 17])\n",
    "# print('Document id: %d' % idx)\n",
    "# print('Predicted class =', class_names[nb.predict(test_vectors[idx]).reshape(1,- 1)[0,0]])\n",
    "# print('True class: %s' % class_names[newsgroups_test.target[idx]])"
   ]
  },
  {
   "cell_type": "code",
   "execution_count": null,
   "id": "932d73f0",
   "metadata": {},
   "outputs": [],
   "source": [
    "# print(test_data[0][0])\n",
    "# print(test_data[2][0])"
   ]
  },
  {
   "cell_type": "code",
   "execution_count": null,
   "id": "3c3e0727",
   "metadata": {
    "scrolled": false
   },
   "outputs": [],
   "source": [
    "# doc1 = nlp.make_doc(test_data[0][0])\n",
    "# doc2 = nlp.make_doc(test_data[2][0])\n",
    "\n",
    "# example_score = textcat_multilabel.predict([doc1, doc2])"
   ]
  },
  {
   "cell_type": "code",
   "execution_count": null,
   "id": "c2c9f77f",
   "metadata": {},
   "outputs": [],
   "source": []
  },
  {
   "cell_type": "code",
   "execution_count": null,
   "id": "73526552",
   "metadata": {},
   "outputs": [],
   "source": []
  },
  {
   "cell_type": "code",
   "execution_count": null,
   "id": "a43016fb",
   "metadata": {},
   "outputs": [],
   "source": []
  },
  {
   "cell_type": "code",
   "execution_count": null,
   "id": "f4fbb09c",
   "metadata": {},
   "outputs": [],
   "source": []
  }
 ],
 "metadata": {
  "kernelspec": {
   "display_name": "Python 3 (ipykernel)",
   "language": "python",
   "name": "python3"
  },
  "language_info": {
   "codemirror_mode": {
    "name": "ipython",
    "version": 3
   },
   "file_extension": ".py",
   "mimetype": "text/x-python",
   "name": "python",
   "nbconvert_exporter": "python",
   "pygments_lexer": "ipython3",
   "version": "3.11.1"
  },
  "toc": {
   "base_numbering": 1,
   "nav_menu": {},
   "number_sections": true,
   "sideBar": true,
   "skip_h1_title": false,
   "title_cell": "Table of Contents",
   "title_sidebar": "Contents",
   "toc_cell": false,
   "toc_position": {},
   "toc_section_display": true,
   "toc_window_display": false
  },
  "varInspector": {
   "cols": {
    "lenName": 16,
    "lenType": 16,
    "lenVar": 40
   },
   "kernels_config": {
    "python": {
     "delete_cmd_postfix": "",
     "delete_cmd_prefix": "del ",
     "library": "var_list.py",
     "varRefreshCmd": "print(var_dic_list())"
    },
    "r": {
     "delete_cmd_postfix": ") ",
     "delete_cmd_prefix": "rm(",
     "library": "var_list.r",
     "varRefreshCmd": "cat(var_dic_list()) "
    }
   },
   "types_to_exclude": [
    "module",
    "function",
    "builtin_function_or_method",
    "instance",
    "_Feature"
   ],
   "window_display": false
  }
 },
 "nbformat": 4,
 "nbformat_minor": 5
}
