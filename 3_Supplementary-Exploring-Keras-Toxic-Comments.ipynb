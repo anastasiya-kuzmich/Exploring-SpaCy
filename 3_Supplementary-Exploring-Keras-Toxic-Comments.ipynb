{
 "cells": [
  {
   "cell_type": "markdown",
   "id": "d1e58229",
   "metadata": {},
   "source": [
    "## Exploring Keras: Toxicity Levels "
   ]
  },
  {
   "cell_type": "markdown",
   "id": "c6505770",
   "metadata": {},
   "source": [
    "Within this notebook, I will be following the Text classification with an RNN [tutorial](https://www.tensorflow.org/text/tutorials/text_classification_rnn) by Tensorflow. The goal is to explore the basic suggested pipeline and compare the results to those produced by using the suggested classification methods suggested by spaCy (see the Main-Exploring-Spacy-Toxic-Comments-Challenge in this repo for further detail)."
   ]
  },
  {
   "cell_type": "markdown",
   "id": "2f606a65",
   "metadata": {},
   "source": [
    "## The task at hand"
   ]
  },
  {
   "cell_type": "markdown",
   "id": "647d61de",
   "metadata": {},
   "source": [
    "I will be using the [Toxic Comment Classification Challenge](https://www.kaggle.com/competitions/jigsaw-toxic-comment-classification-challenge/overview) dataset as an example."
   ]
  },
  {
   "cell_type": "markdown",
   "id": "8ee9d009",
   "metadata": {},
   "source": [
    "**The data:** A large number of Wikipedia comments which have been labeled by human raters for toxic behavior. \n",
    "The types of toxicity are:\n",
    "\n",
    "- toxic\n",
    "- severe_toxic\n",
    "- obscene\n",
    "- threat\n",
    "- insult\n",
    "- identity_hate\n",
    "\n",
    "The model should predicts the toxicity of these comments."
   ]
  },
  {
   "cell_type": "markdown",
   "id": "efbed51d",
   "metadata": {},
   "source": [
    "## Importing packages & dataset"
   ]
  },
  {
   "cell_type": "code",
   "execution_count": 1,
   "id": "4b406dd5",
   "metadata": {
    "ExecuteTime": {
     "end_time": "2022-12-23T12:30:14.705954Z",
     "start_time": "2022-12-23T12:30:09.825325Z"
    }
   },
   "outputs": [],
   "source": [
    "import pandas as pd\n",
    "import numpy as np\n",
    "import matplotlib.pyplot as plt\n",
    "import seaborn as sns\n",
    "import tensorflow as tf\n",
    "\n",
    "np.set_printoptions(precision=4)\n",
    "sns.set(font_scale=1.5)\n",
    "plt.style.use('fivethirtyeight')\n",
    "\n",
    "def plot_graphs(history, metric):\n",
    "  plt.plot(history.history[metric])\n",
    "  plt.plot(history.history['val_'+metric], '')\n",
    "  plt.xlabel(\"Epochs\")\n",
    "  plt.ylabel(metric)\n",
    "  plt.legend([metric, 'val_'+metric])\n",
    "\n",
    "%matplotlib inline\n",
    "%config InlineBackend.figure_format = 'retina'"
   ]
  },
  {
   "cell_type": "code",
   "execution_count": 2,
   "id": "59eb707a",
   "metadata": {
    "ExecuteTime": {
     "end_time": "2022-12-23T12:30:15.586985Z",
     "start_time": "2022-12-23T12:30:14.708389Z"
    }
   },
   "outputs": [
    {
     "name": "stdout",
     "output_type": "stream",
     "text": [
      "The dataset contains 159571 entries with 8 features.\n"
     ]
    }
   ],
   "source": [
    "df = pd.read_csv(\"/Users/anastasiakuzmich/Desktop/jigsaw-toxic-comment-classification-challenge/train.csv\")\n",
    "\n",
    "print(\"The dataset contains %s entries with %s features.\" \n",
    "      % (df.shape[0], df.shape[1]))"
   ]
  },
  {
   "cell_type": "markdown",
   "id": "9d581562",
   "metadata": {},
   "source": [
    "## Preparing the dataset"
   ]
  },
  {
   "cell_type": "markdown",
   "id": "c333bcda",
   "metadata": {},
   "source": [
    "### Dropping the columns I will not require for this task"
   ]
  },
  {
   "cell_type": "markdown",
   "id": "5866601c",
   "metadata": {},
   "source": [
    "✏️ The tutorial follows a binary classification task, so I will be doing the same to predict simply whether a comment is toxic or not:"
   ]
  },
  {
   "cell_type": "code",
   "execution_count": 3,
   "id": "870e1a6f",
   "metadata": {
    "ExecuteTime": {
     "end_time": "2022-12-23T12:30:15.599836Z",
     "start_time": "2022-12-23T12:30:15.589150Z"
    }
   },
   "outputs": [],
   "source": [
    "df = df[[\"comment_text\", \"toxic\"]]"
   ]
  },
  {
   "cell_type": "markdown",
   "id": "aef14714",
   "metadata": {},
   "source": [
    "### Basic text cleaning "
   ]
  },
  {
   "cell_type": "code",
   "execution_count": 4,
   "id": "bcc8eddf",
   "metadata": {
    "ExecuteTime": {
     "end_time": "2022-12-23T12:30:15.611741Z",
     "start_time": "2022-12-23T12:30:15.604879Z"
    }
   },
   "outputs": [],
   "source": [
    "def clean_comments_column(df):\n",
    "    \n",
    "    \"\"\"Cleans the comments column.\"\"\"\n",
    "    \n",
    "    import re\n",
    "    \n",
    "    IpAddressRegex = \"(\\d{1,3}\\.\\d{1,3}\\.\\d{1,3}\\.\\d{1,3})\"\n",
    "    DateTimeRegex = \"(\\d{2}\\:\\d{2}\\, [A-Z][a-z]{2,8}\\ \\d{1,2}\\, \\d{4}\\ \\([A-Z]{3}\\))|(\\d{2}\\:\\d{2}\\, \\d{2}\\ [A-Z][a-z]{2}\\ \\d{4}\\ \\([A-Z]{3}\\))|(\\d{2}\\:\\d{2}\\, \\d{1,2}\\ [A-Z][a-z]{2,8} \\d{4})|(\\d{1,2}\\ [A-Z][a-z]{2,8}\\ \\d{4}\\ \\([A-Z]{3}\\))|(\\d{1,2}\\ [A-Z][a-z]{1,7}\\ \\d{4})|(\\d{2}\\:\\d{2}\\, \\d{1,2})|([A-Z][a-z]{2,8}\\ \\d{4}\\ \\([A-Z]{3}\\))\"\n",
    "    \n",
    "    features_to_remove = [IpAddressRegex,\n",
    "                          DateTimeRegex,\n",
    "                          '\\\\n', r'\\\\']\n",
    "    \n",
    "    for feature in features_to_remove:\n",
    "        df[\"comment_text\"] = df[\"comment_text\"].replace(feature,' ', regex=True)\n",
    " \n",
    "    df['comment_text'] = df['comment_text'].replace(u'\\xa0', u' ')\n",
    "    \n",
    "    return df"
   ]
  },
  {
   "cell_type": "code",
   "execution_count": 5,
   "id": "f93d9f0b",
   "metadata": {
    "ExecuteTime": {
     "end_time": "2022-12-23T12:30:33.771440Z",
     "start_time": "2022-12-23T12:30:15.615082Z"
    },
    "scrolled": true
   },
   "outputs": [
    {
     "data": {
      "text/html": [
       "<div>\n",
       "<style scoped>\n",
       "    .dataframe tbody tr th:only-of-type {\n",
       "        vertical-align: middle;\n",
       "    }\n",
       "\n",
       "    .dataframe tbody tr th {\n",
       "        vertical-align: top;\n",
       "    }\n",
       "\n",
       "    .dataframe thead th {\n",
       "        text-align: right;\n",
       "    }\n",
       "</style>\n",
       "<table border=\"1\" class=\"dataframe\">\n",
       "  <thead>\n",
       "    <tr style=\"text-align: right;\">\n",
       "      <th></th>\n",
       "      <th>comment_text</th>\n",
       "      <th>toxic</th>\n",
       "    </tr>\n",
       "  </thead>\n",
       "  <tbody>\n",
       "    <tr>\n",
       "      <th>0</th>\n",
       "      <td>Explanation Why the edits made under my userna...</td>\n",
       "      <td>0</td>\n",
       "    </tr>\n",
       "    <tr>\n",
       "      <th>1</th>\n",
       "      <td>D'aww! He matches this background colour I'm s...</td>\n",
       "      <td>0</td>\n",
       "    </tr>\n",
       "    <tr>\n",
       "      <th>2</th>\n",
       "      <td>Hey man, I'm really not trying to edit war. It...</td>\n",
       "      <td>0</td>\n",
       "    </tr>\n",
       "    <tr>\n",
       "      <th>3</th>\n",
       "      <td>\" More I can't make any real suggestions on im...</td>\n",
       "      <td>0</td>\n",
       "    </tr>\n",
       "    <tr>\n",
       "      <th>4</th>\n",
       "      <td>You, sir, are my hero. Any chance you remember...</td>\n",
       "      <td>0</td>\n",
       "    </tr>\n",
       "  </tbody>\n",
       "</table>\n",
       "</div>"
      ],
      "text/plain": [
       "                                        comment_text  toxic\n",
       "0  Explanation Why the edits made under my userna...      0\n",
       "1  D'aww! He matches this background colour I'm s...      0\n",
       "2  Hey man, I'm really not trying to edit war. It...      0\n",
       "3  \" More I can't make any real suggestions on im...      0\n",
       "4  You, sir, are my hero. Any chance you remember...      0"
      ]
     },
     "execution_count": 5,
     "metadata": {},
     "output_type": "execute_result"
    }
   ],
   "source": [
    "df = clean_comments_column(df)\n",
    "df.head()"
   ]
  },
  {
   "cell_type": "markdown",
   "id": "dc64011b",
   "metadata": {},
   "source": [
    "### Train-test split & data restructuring"
   ]
  },
  {
   "cell_type": "code",
   "execution_count": 6,
   "id": "320c6ccf",
   "metadata": {
    "ExecuteTime": {
     "end_time": "2022-12-23T12:30:33.887600Z",
     "start_time": "2022-12-23T12:30:33.774479Z"
    }
   },
   "outputs": [],
   "source": [
    "from sklearn.model_selection import train_test_split\n",
    "\n",
    "train_data, test_data = train_test_split(df, \n",
    "                                         train_size=0.8, \n",
    "                                         random_state=13)"
   ]
  },
  {
   "cell_type": "code",
   "execution_count": 7,
   "id": "c0ff2437",
   "metadata": {
    "ExecuteTime": {
     "end_time": "2022-12-23T12:30:33.894982Z",
     "start_time": "2022-12-23T12:30:33.890735Z"
    }
   },
   "outputs": [],
   "source": [
    "del df"
   ]
  },
  {
   "cell_type": "markdown",
   "id": "56d93b7d",
   "metadata": {},
   "source": [
    "### Conversion to Tensorflow dataset objects"
   ]
  },
  {
   "cell_type": "code",
   "execution_count": 15,
   "id": "9faeca40",
   "metadata": {
    "ExecuteTime": {
     "end_time": "2022-12-23T12:33:22.798123Z",
     "start_time": "2022-12-23T12:33:22.692812Z"
    }
   },
   "outputs": [],
   "source": [
    "train_text = train_data['comment_text'].to_numpy()\n",
    "train_labels = train_data['toxic'].to_numpy().flatten()\n",
    "\n",
    "test_text = test_data['comment_text'].to_numpy()\n",
    "test_labels = test_data['toxic'].to_numpy().flatten()\n",
    "\n",
    "train_dataset = tf.data.Dataset.from_tensor_slices((train_text,train_labels))\n",
    "test_dataset = tf.data.Dataset.from_tensor_slices((test_text,test_labels))"
   ]
  },
  {
   "cell_type": "code",
   "execution_count": 17,
   "id": "0357de2c",
   "metadata": {
    "ExecuteTime": {
     "end_time": "2022-12-23T12:34:15.309686Z",
     "start_time": "2022-12-23T12:34:15.304694Z"
    }
   },
   "outputs": [
    {
     "data": {
      "text/plain": [
       "(TensorSpec(shape=(), dtype=tf.string, name=None),\n",
       " TensorSpec(shape=(), dtype=tf.int64, name=None))"
      ]
     },
     "execution_count": 17,
     "metadata": {},
     "output_type": "execute_result"
    }
   ],
   "source": [
    "train_dataset.element_spec"
   ]
  },
  {
   "cell_type": "code",
   "execution_count": 16,
   "id": "73e177c6",
   "metadata": {
    "ExecuteTime": {
     "end_time": "2022-12-23T12:33:31.427620Z",
     "start_time": "2022-12-23T12:33:31.415744Z"
    }
   },
   "outputs": [
    {
     "name": "stdout",
     "output_type": "stream",
     "text": [
      "text:  b\"Okay so no one's gonna address this? Guess that no one editing this page cares about accuracy.\"\n",
      "label:  0\n"
     ]
    }
   ],
   "source": [
    "for example, label in train_dataset.take(1):\n",
    "    print('text: ', example.numpy())\n",
    "    print('label: ', label.numpy())"
   ]
  },
  {
   "cell_type": "markdown",
   "id": "bb95c489",
   "metadata": {},
   "source": [
    "### Shuffling the data for training and creating batches of (text, label) pairs"
   ]
  },
  {
   "cell_type": "code",
   "execution_count": 18,
   "id": "2462a14d",
   "metadata": {
    "ExecuteTime": {
     "end_time": "2022-12-23T12:35:08.301327Z",
     "start_time": "2022-12-23T12:35:08.298413Z"
    }
   },
   "outputs": [],
   "source": [
    "BUFFER_SIZE = 10000\n",
    "BATCH_SIZE = 64"
   ]
  },
  {
   "cell_type": "code",
   "execution_count": 19,
   "id": "c55c1464",
   "metadata": {
    "ExecuteTime": {
     "end_time": "2022-12-23T12:35:08.623203Z",
     "start_time": "2022-12-23T12:35:08.612310Z"
    }
   },
   "outputs": [],
   "source": [
    "train_dataset = train_dataset.shuffle(BUFFER_SIZE).batch(BATCH_SIZE).prefetch(tf.data.AUTOTUNE)\n",
    "test_dataset = test_dataset.batch(BATCH_SIZE).prefetch(tf.data.AUTOTUNE)"
   ]
  },
  {
   "cell_type": "code",
   "execution_count": 20,
   "id": "5cf0d530",
   "metadata": {
    "ExecuteTime": {
     "end_time": "2022-12-23T12:35:08.991286Z",
     "start_time": "2022-12-23T12:35:08.958303Z"
    },
    "scrolled": true
   },
   "outputs": [
    {
     "name": "stdout",
     "output_type": "stream",
     "text": [
      "texts:  [b'Tamilnet.tv is an amazing site.  '\n",
      " b\"porkchops deserve their own page, probably not their own wiki though. i have no idea why you think this would make sense in a page about the american midwest; porkchops would be kind of a tangent. anyway i just posted to say that TOW really sucks, and you guys need to clean up this page. it's got some peoples' nicknames on it and the article reads like they probably wrote it, too. there is a thread on one of the /b/'s talking about how ridiculous the first sentence is.\"\n",
      " b'\"   Just came here to say exactly the same thing, \"\"Methanol Fuel\"\" is about the actual fuel whereas \"\"Methanol Economy\"\" is about a hypothetical economic situation and a way of structuring infrastructure etc.\"']\n",
      "\n",
      "labels:  [0 0 0]\n"
     ]
    }
   ],
   "source": [
    "for example, label in train_dataset.take(1):\n",
    "  print('texts: ', example.numpy()[:3])\n",
    "  print()\n",
    "  print('labels: ', label.numpy()[:3])\n"
   ]
  },
  {
   "cell_type": "markdown",
   "id": "5dffab69",
   "metadata": {},
   "source": [
    "### Encoding the text using a TextVectorization layer"
   ]
  },
  {
   "cell_type": "code",
   "execution_count": 21,
   "id": "8dc4eea0",
   "metadata": {
    "ExecuteTime": {
     "end_time": "2022-12-23T12:36:05.385938Z",
     "start_time": "2022-12-23T12:36:00.273256Z"
    }
   },
   "outputs": [
    {
     "name": "stderr",
     "output_type": "stream",
     "text": [
      "2022-12-23 12:36:00.523905: I tensorflow/compiler/mlir/mlir_graph_optimization_pass.cc:185] None of the MLIR Optimization Passes are enabled (registered 2)\n"
     ]
    }
   ],
   "source": [
    "VOCAB_SIZE = 1000\n",
    "encoder = tf.keras.layers.TextVectorization(\n",
    "    max_tokens=VOCAB_SIZE)\n",
    "encoder.adapt(train_dataset.map(lambda text, label: text))"
   ]
  },
  {
   "cell_type": "code",
   "execution_count": 23,
   "id": "9cf83685",
   "metadata": {
    "ExecuteTime": {
     "end_time": "2022-12-23T12:36:56.734938Z",
     "start_time": "2022-12-23T12:36:56.700621Z"
    }
   },
   "outputs": [
    {
     "data": {
      "text/plain": [
       "array([[  1,   9,  30, ...,   0,   0,   0],\n",
       "       [  1,   1,  92, ...,   0,   0,   0],\n",
       "       [ 51, 547,  66, ...,   0,   0,   0]])"
      ]
     },
     "execution_count": 23,
     "metadata": {},
     "output_type": "execute_result"
    }
   ],
   "source": [
    "encoded_example = encoder(example)[:3].numpy()\n",
    "encoded_example"
   ]
  },
  {
   "cell_type": "markdown",
   "id": "2edd0b4f",
   "metadata": {},
   "source": [
    "## Creating the model"
   ]
  },
  {
   "cell_type": "code",
   "execution_count": 25,
   "id": "1e40caeb",
   "metadata": {
    "ExecuteTime": {
     "end_time": "2022-12-23T12:38:11.406962Z",
     "start_time": "2022-12-23T12:38:09.328737Z"
    }
   },
   "outputs": [],
   "source": [
    "model = tf.keras.Sequential([\n",
    "    encoder,\n",
    "    tf.keras.layers.Embedding(\n",
    "        input_dim=len(encoder.get_vocabulary()),\n",
    "        output_dim=64,\n",
    "        # Use masking to handle the variable sequence lengths\n",
    "        mask_zero=True),\n",
    "    tf.keras.layers.Bidirectional(tf.keras.layers.LSTM(64)),\n",
    "    tf.keras.layers.Dense(64, activation='relu'),\n",
    "    tf.keras.layers.Dense(1)\n",
    "])"
   ]
  },
  {
   "cell_type": "code",
   "execution_count": 29,
   "id": "4e52ed82",
   "metadata": {
    "ExecuteTime": {
     "end_time": "2022-12-23T12:38:49.332476Z",
     "start_time": "2022-12-23T12:38:49.317871Z"
    }
   },
   "outputs": [],
   "source": [
    "model.compile(loss=tf.keras.losses.BinaryCrossentropy(from_logits=True),\n",
    "              optimizer=tf.keras.optimizers.Adam(1e-4),\n",
    "              metrics=['accuracy'])"
   ]
  },
  {
   "cell_type": "markdown",
   "id": "a2940682",
   "metadata": {},
   "source": [
    "## Training the model"
   ]
  },
  {
   "cell_type": "code",
   "execution_count": 30,
   "id": "098f1bbf",
   "metadata": {
    "ExecuteTime": {
     "end_time": "2022-12-23T15:23:17.342902Z",
     "start_time": "2022-12-23T12:39:38.428468Z"
    }
   },
   "outputs": [
    {
     "name": "stdout",
     "output_type": "stream",
     "text": [
      "Epoch 1/10\n",
      "1995/1995 [==============================] - 1099s 548ms/step - loss: 0.2243 - accuracy: 0.9257 - val_loss: 0.1642 - val_accuracy: 0.9354\n",
      "Epoch 2/10\n",
      "1995/1995 [==============================] - 1052s 527ms/step - loss: 0.1460 - accuracy: 0.9482 - val_loss: 0.1534 - val_accuracy: 0.9417\n",
      "Epoch 3/10\n",
      "1995/1995 [==============================] - 877s 440ms/step - loss: 0.1396 - accuracy: 0.9506 - val_loss: 0.1491 - val_accuracy: 0.9464\n",
      "Epoch 4/10\n",
      "1995/1995 [==============================] - 933s 468ms/step - loss: 0.1372 - accuracy: 0.9512 - val_loss: 0.1495 - val_accuracy: 0.9453\n",
      "Epoch 5/10\n",
      "1995/1995 [==============================] - 1029s 515ms/step - loss: 0.1354 - accuracy: 0.9514 - val_loss: 0.1486 - val_accuracy: 0.9464\n",
      "Epoch 6/10\n",
      "1995/1995 [==============================] - 953s 477ms/step - loss: 0.1338 - accuracy: 0.9512 - val_loss: 0.1520 - val_accuracy: 0.9458\n",
      "Epoch 7/10\n",
      "1995/1995 [==============================] - 942s 472ms/step - loss: 0.1324 - accuracy: 0.9512 - val_loss: 0.1503 - val_accuracy: 0.9448\n",
      "Epoch 8/10\n",
      "1995/1995 [==============================] - 1026s 514ms/step - loss: 0.1311 - accuracy: 0.9514 - val_loss: 0.1631 - val_accuracy: 0.9453\n",
      "Epoch 9/10\n",
      "1995/1995 [==============================] - 966s 484ms/step - loss: 0.1298 - accuracy: 0.9518 - val_loss: 0.1510 - val_accuracy: 0.9443\n",
      "Epoch 10/10\n",
      "1995/1995 [==============================] - 942s 472ms/step - loss: 0.1285 - accuracy: 0.9520 - val_loss: 0.1528 - val_accuracy: 0.9458\n"
     ]
    }
   ],
   "source": [
    "history = model.fit(train_dataset, epochs=10,\n",
    "                    validation_data=test_dataset,\n",
    "                    validation_steps=30)"
   ]
  },
  {
   "cell_type": "markdown",
   "id": "1b7b227b",
   "metadata": {},
   "source": [
    "## Evaluating the model"
   ]
  },
  {
   "cell_type": "code",
   "execution_count": 31,
   "id": "eae3ec0a",
   "metadata": {
    "ExecuteTime": {
     "end_time": "2022-12-23T15:24:02.187238Z",
     "start_time": "2022-12-23T15:23:17.702149Z"
    }
   },
   "outputs": [
    {
     "name": "stdout",
     "output_type": "stream",
     "text": [
      "499/499 [==============================] - 44s 89ms/step - loss: 0.1399 - accuracy: 0.9516\n",
      "Test Loss: 0.1399342119693756\n",
      "Test Accuracy: 0.9515901803970337\n"
     ]
    }
   ],
   "source": [
    "test_loss, test_acc = model.evaluate(test_dataset)\n",
    "\n",
    "print('Test Loss:', test_loss)\n",
    "print('Test Accuracy:', test_acc)"
   ]
  },
  {
   "cell_type": "code",
   "execution_count": 32,
   "id": "c999881a",
   "metadata": {
    "ExecuteTime": {
     "end_time": "2022-12-23T15:24:02.943506Z",
     "start_time": "2022-12-23T15:24:02.295951Z"
    }
   },
   "outputs": [
    {
     "data": {
      "text/plain": [
       "(0.0, 0.229130632430315)"
      ]
     },
     "execution_count": 32,
     "metadata": {},
     "output_type": "execute_result"
    },
    {
     "data": {
      "image/png": "[encoded data removed]",
      "text/plain": [
       "<Figure size 1152x576 with 2 Axes>"
      ]
     },
     "metadata": {
      "image/png": {
       "height": 489,
       "width": 1067
      },
      "needs_background": "light"
     },
     "output_type": "display_data"
    }
   ],
   "source": [
    "plt.figure(figsize=(16, 8))\n",
    "plt.subplot(1, 2, 1)\n",
    "plot_graphs(history, 'accuracy')\n",
    "plt.ylim(None, 1)\n",
    "plt.subplot(1, 2, 2)\n",
    "plot_graphs(history, 'loss')\n",
    "plt.ylim(0, None)"
   ]
  }
 ],
 "metadata": {
  "kernelspec": {
   "display_name": "Python 3 (ipykernel)",
   "language": "python",
   "name": "python3"
  },
  "language_info": {
   "codemirror_mode": {
    "name": "ipython",
    "version": 3
   },
   "file_extension": ".py",
   "mimetype": "text/x-python",
   "name": "python",
   "nbconvert_exporter": "python",
   "pygments_lexer": "ipython3",
   "version": "3.8.2"
  },
  "toc": {
   "base_numbering": 1,
   "nav_menu": {},
   "number_sections": true,
   "sideBar": true,
   "skip_h1_title": false,
   "title_cell": "Table of Contents",
   "title_sidebar": "Contents",
   "toc_cell": false,
   "toc_position": {},
   "toc_section_display": true,
   "toc_window_display": false
  },
  "varInspector": {
   "cols": {
    "lenName": 16,
    "lenType": 16,
    "lenVar": 40
   },
   "kernels_config": {
    "python": {
     "delete_cmd_postfix": "",
     "delete_cmd_prefix": "del ",
     "library": "var_list.py",
     "varRefreshCmd": "print(var_dic_list())"
    },
    "r": {
     "delete_cmd_postfix": ") ",
     "delete_cmd_prefix": "rm(",
     "library": "var_list.r",
     "varRefreshCmd": "cat(var_dic_list()) "
    }
   },
   "oldHeight": 437.851812,
   "position": {
    "height": "40px",
    "left": "812.998px",
    "right": "20px",
    "top": "120px",
    "width": "327.002px"
   },
   "types_to_exclude": [
    "module",
    "function",
    "builtin_function_or_method",
    "instance",
    "_Feature"
   ],
   "varInspector_section_display": "none",
   "window_display": true
  }
 },
 "nbformat": 4,
 "nbformat_minor": 5
}
